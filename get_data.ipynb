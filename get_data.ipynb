{
 "cells": [
  {
   "cell_type": "code",
   "execution_count": 2,
   "metadata": {},
   "outputs": [
    {
     "name": "stdout",
     "output_type": "stream",
     "text": [
      "Combined CSV saved to: /Users/yav13/Work/sdsc/SDSC-FIREREADY-BENCHMARK/NEON_all_sites_combined.csv\n"
     ]
    }
   ],
   "source": [
    "import os\n",
    "import pandas as pd\n",
    "\n",
    "site_names = ['ABBY', 'BART', 'BLAN', 'DSNY', 'GUAN', 'HARV', 'JERC', 'LAJA', 'SCBI', 'SERC', 'TEAK', 'OSBS', 'STEI', 'TREE', 'UNDE', 'KONZ', 'UKFS', 'GRSM', 'MLBS', 'ORNL', 'DELA', 'LENO', 'TALL', 'DCFS', 'NOGP', 'WOOD', 'CPER', 'RMNP', 'CLBJ', 'YELL', 'MOAB', 'NIWO', 'JORN', 'SRER', \n",
    "'ONAQ', 'WREF', 'SJER', 'SOAP','BONA', 'DEJU', 'HEAL', 'PUUM']\n",
    "\n",
    "BASE_DIR = r\"/Users/yav13/Work/sdsc/SDSC-FIREREADY-BENCHMARK\"\n",
    "CLEANED_DATA_DIR = os.path.join(BASE_DIR, \"cleaned_data\")\n",
    "\n",
    "combined_df = pd.DataFrame()\n",
    "\n",
    "for site in site_names:\n",
    "    file_path = os.path.join(CLEANED_DATA_DIR, f\"NEON_{site}.csv\")\n",
    "    try:\n",
    "        df = pd.read_csv(file_path)\n",
    "        df['site'] = site  # Add a column to keep track of site source\n",
    "        combined_df = pd.concat([combined_df, df], ignore_index=True)\n",
    "    except FileNotFoundError:\n",
    "        print(f\"File not found: {file_path}\")\n",
    "\n",
    "# Save to a single merged CSV file\n",
    "output_file = os.path.join(BASE_DIR, \"NEON_all_sites_combined.csv\")\n",
    "combined_df.to_csv(output_file, index=False)\n",
    "\n",
    "print(f\"Combined CSV saved to: {output_file}\")"
   ]
  },
  {
   "cell_type": "code",
   "execution_count": null,
   "metadata": {},
   "outputs": [],
   "source": []
  }
 ],
 "metadata": {
  "kernelspec": {
   "display_name": "Python 3",
   "language": "python",
   "name": "python3"
  },
  "language_info": {
   "codemirror_mode": {
    "name": "ipython",
    "version": 3
   },
   "file_extension": ".py",
   "mimetype": "text/x-python",
   "name": "python",
   "nbconvert_exporter": "python",
   "pygments_lexer": "ipython3",
   "version": "3.11.12"
  }
 },
 "nbformat": 4,
 "nbformat_minor": 2
}
